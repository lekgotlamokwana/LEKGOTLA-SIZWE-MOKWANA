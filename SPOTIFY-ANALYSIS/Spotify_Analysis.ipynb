{
 "cells": [
  {
   "cell_type": "markdown",
   "id": "88f02eaa",
   "metadata": {},
   "source": [
    "# Spotify Songs Data Analysis\n",
    "\n",
    "This notebook explores Spotify songs dataset to understand trends and patterns."
   ]
  },
  {
   "cell_type": "code",
   "execution_count": null,
   "id": "41976c2a",
   "metadata": {},
   "outputs": [],
   "source": [
    "import pandas as pd\n",
    "import matplotlib.pyplot as plt\n",
    "import seaborn as sns"
   ]
  },
  {
   "cell_type": "code",
   "execution_count": null,
   "id": "df745f59",
   "metadata": {},
   "outputs": [],
   "source": [
    "df = pd.read_csv('spotify_data.csv')\n",
    "df.head()"
   ]
  },
  {
   "cell_type": "code",
   "execution_count": null,
   "id": "9f2317ff",
   "metadata": {},
   "outputs": [],
   "source": [
    "sns.histplot(df['danceability'], kde=True)\n",
    "plt.title('Danceability Distribution')\n",
    "plt.show()"
   ]
  },
  {
   "cell_type": "code",
   "execution_count": null,
   "id": "855eddbd",
   "metadata": {},
   "outputs": [],
   "source": [
    "top_artists = df['artist_name'].value_counts().head(10)\n",
    "top_artists.plot(kind='bar')\n",
    "plt.title('Top 10 Artists')\n",
    "plt.ylabel('Song Count')\n",
    "plt.show()"
   ]
  }
 ],
 "metadata": {},
 "nbformat": 4,
 "nbformat_minor": 5
}
