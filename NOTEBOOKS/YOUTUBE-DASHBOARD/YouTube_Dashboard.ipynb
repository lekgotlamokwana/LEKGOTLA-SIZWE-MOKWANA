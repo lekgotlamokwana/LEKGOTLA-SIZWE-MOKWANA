{
 "cells": [
  {
   "cell_type": "markdown",
   "id": "0a688998",
   "metadata": {},
   "source": [
    "# YouTube Performance Dashboard\n",
    "\n",
    "This notebook analyzes YouTube video performance data to create a dashboard for insights."
   ]
  },
  {
   "cell_type": "code",
   "execution_count": null,
   "id": "60628274",
   "metadata": {},
   "outputs": [],
   "source": [
    "import pandas as pd\n",
    "import matplotlib.pyplot as plt\n",
    "import seaborn as sns"
   ]
  },
  {
   "cell_type": "code",
   "execution_count": null,
   "id": "471833e8",
   "metadata": {},
   "outputs": [],
   "source": [
    "df = pd.read_csv('youtube_data.csv')\n",
    "df.head()"
   ]
  },
  {
   "cell_type": "code",
   "execution_count": null,
   "id": "175b685e",
   "metadata": {},
   "outputs": [],
   "source": [
    "df['CTR'] = df['Clicks'] / df['Impressions']\n",
    "sns.scatterplot(data=df, x='CTR', y='Watch time (hours)')\n",
    "plt.title('CTR vs Watch Time')\n",
    "plt.show()"
   ]
  },
  {
   "cell_type": "code",
   "execution_count": null,
   "id": "e79625da",
   "metadata": {},
   "outputs": [],
   "source": [
    "top_videos = df.sort_values(by='Views', ascending=False).head(5)\n",
    "print(top_videos[['Title', 'Views', 'Watch time (hours)']])"
   ]
  }
 ],
 "metadata": {},
 "nbformat": 4,
 "nbformat_minor": 5
}
