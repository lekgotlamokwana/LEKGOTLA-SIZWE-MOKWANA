{
 "cells": [
  {
   "cell_type": "markdown",
   "id": "bce504fb",
   "metadata": {},
   "source": [
    "# Flyzy Airline Satisfaction Analysis\n",
    "\n",
    "This notebook analyzes airline customer satisfaction data using EDA and logistic regression."
   ]
  },
  {
   "cell_type": "code",
   "execution_count": null,
   "id": "d7ade8f3",
   "metadata": {},
   "outputs": [],
   "source": [
    "import pandas as pd\n",
    "import seaborn as sns\n",
    "import matplotlib.pyplot as plt\n",
    "from sklearn.linear_model import LogisticRegression\n",
    "from sklearn.model_selection import train_test_split\n",
    "from sklearn.metrics import accuracy_score, classification_report"
   ]
  },
  {
   "cell_type": "code",
   "execution_count": null,
   "id": "23eaec97",
   "metadata": {},
   "outputs": [],
   "source": [
    "df = pd.read_csv('flyzy_data.csv')\n",
    "df.head()"
   ]
  },
  {
   "cell_type": "code",
   "execution_count": null,
   "id": "b6510138",
   "metadata": {},
   "outputs": [],
   "source": [
    "sns.countplot(data=df, x='Satisfaction')\n",
    "plt.title('Satisfaction Distribution')\n",
    "plt.show()"
   ]
  },
  {
   "cell_type": "code",
   "execution_count": null,
   "id": "8f5b36be",
   "metadata": {},
   "outputs": [],
   "source": [
    "X = df[['Age', 'Flight Distance']]\n",
    "y = df['Satisfaction']\n",
    "X_train, X_test, y_train, y_test = train_test_split(X, y, test_size=0.2)\n",
    "model = LogisticRegression()\n",
    "model.fit(X_train, y_train)\n",
    "y_pred = model.predict(X_test)\n",
    "print(accuracy_score(y_test, y_pred))\n",
    "print(classification_report(y_test, y_pred))"
   ]
  }
 ],
 "metadata": {},
 "nbformat": 4,
 "nbformat_minor": 5
}
